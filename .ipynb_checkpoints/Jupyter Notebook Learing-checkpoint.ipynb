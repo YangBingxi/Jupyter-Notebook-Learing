{
 "cells": [
  {
   "cell_type": "code",
   "execution_count": 1,
   "metadata": {},
   "outputs": [
    {
     "name": "stdout",
     "output_type": "stream",
     "text": [
      "Hello World\n"
     ]
    }
   ],
   "source": [
    "print('Hello World')"
   ]
  },
  {
   "cell_type": "markdown",
   "metadata": {},
   "source": [
    "ALT+ENTER运行代码\n",
    "Esc+m & Esc+a切换输入方式"
   ]
  },
  {
   "cell_type": "markdown",
   "metadata": {},
   "source": [
    "# Python基础语法\n",
    "## 运算\n",
    "默认是浮点运算   \n",
    "加 +  \n",
    "减 -  \n",
    "乘 *  \n",
    "除 /  \n",
    "取余 %  \n",
    "指数 ** （平方） \n",
    "复利运算 本金*利息 ** 期数  \n",
    " \n",
    "复利计算公式是计算前一期利息再生利息的问题，计入本金重复计息，即“利生利”“利滚利”。它的计算方法主要分为2种：一种是一次支付复利计算；另一种是等额多次支付复利计算"
   ]
  },
  {
   "cell_type": "code",
   "execution_count": 7,
   "metadata": {},
   "outputs": [
    {
     "name": "stdout",
     "output_type": "stream",
     "text": [
      "19\n",
      "11\n",
      "60\n",
      "3.75\n",
      "3\n",
      "50625\n",
      "21.961500000000004\n"
     ]
    }
   ],
   "source": [
    "a = 15\n",
    "b = 4\n",
    "c = 1.1\n",
    "print(a + b) \n",
    "print(a - b)\n",
    "print(a*b)\n",
    "print(a/b)\n",
    "print(a%b)\n",
    "print(a**b)\n",
    "print(a*c**b)"
   ]
  },
  {
   "cell_type": "markdown",
   "metadata": {},
   "source": [
    "## 数据类型\n",
    "```type(a)```可以查看a的变量类型  \n",
    "数据类型的强制转换  eg：```int(float x)```"
   ]
  },
  {
   "cell_type": "code",
   "execution_count": 15,
   "metadata": {},
   "outputs": [
    {
     "name": "stdout",
     "output_type": "stream",
     "text": [
      "<class 'int'>\n",
      "<class 'float'>\n",
      "<class 'bool'>\n",
      "<class 'str'>\n"
     ]
    }
   ],
   "source": [
    "a=2;b=0.13;c = True;d = \"Sw\"\n",
    "print(type(a))\n",
    "print(type(b))\n",
    "print(type(c))\n",
    "print(type(d))"
   ]
  },
  {
   "cell_type": "markdown",
   "metadata": {},
   "source": [
    "## List列表\n",
    "种复合的数据类型\n",
    "列表切片\n",
    "\n",
    "连续显示一串列表内容\n",
    "```list_name[start:end]```\n",
    "列表项的添加：```List[0:2] = [aa,dd]```\n",
    "列表项的删减：```del(List[x])```"
   ]
  },
  {
   "cell_type": "code",
   "execution_count": 23,
   "metadata": {},
   "outputs": [
    {
     "name": "stdout",
     "output_type": "stream",
     "text": [
      "['Sw', '男', 20, 2321]\n",
      "<class 'list'>\n"
     ]
    }
   ],
   "source": [
    "Student = [\"Sw\",\"男\",20,2321]\n",
    "print(Student)\n",
    "print(type(Student))"
   ]
  },
  {
   "cell_type": "code",
   "execution_count": 24,
   "metadata": {},
   "outputs": [
    {
     "data": {
      "text/plain": [
       "'男'"
      ]
     },
     "execution_count": 24,
     "metadata": {},
     "output_type": "execute_result"
    }
   ],
   "source": [
    "Student[1]"
   ]
  },
  {
   "cell_type": "code",
   "execution_count": 26,
   "metadata": {},
   "outputs": [
    {
     "data": {
      "text/plain": [
       "[['Name', 'Sw'], ['Sex', '男'], ['age', 20], ['Num', 2321]]"
      ]
     },
     "execution_count": 26,
     "metadata": {},
     "output_type": "execute_result"
    }
   ],
   "source": [
    "Student = [['Name',\"Sw\"],['Sex',\"男\"],['age',20],['Num',2321]]\n",
    "\n",
    "Student"
   ]
  },
  {
   "cell_type": "code",
   "execution_count": 29,
   "metadata": {},
   "outputs": [
    {
     "data": {
      "text/plain": [
       "'Name'"
      ]
     },
     "execution_count": 29,
     "metadata": {},
     "output_type": "execute_result"
    }
   ],
   "source": [
    "Student[0][0]"
   ]
  },
  {
   "cell_type": "code",
   "execution_count": 31,
   "metadata": {},
   "outputs": [
    {
     "data": {
      "text/plain": [
       "2321"
      ]
     },
     "execution_count": 31,
     "metadata": {},
     "output_type": "execute_result"
    }
   ],
   "source": [
    "Student[-1][-1] #-1指向列表尾"
   ]
  },
  {
   "cell_type": "code",
   "execution_count": 33,
   "metadata": {},
   "outputs": [
    {
     "data": {
      "text/plain": [
       "[['age', 20], ['Num', 2321]]"
      ]
     },
     "execution_count": 33,
     "metadata": {},
     "output_type": "execute_result"
    }
   ],
   "source": [
    "Student[2:4]"
   ]
  },
  {
   "cell_type": "code",
   "execution_count": 43,
   "metadata": {},
   "outputs": [
    {
     "data": {
      "text/plain": [
       "2.3"
      ]
     },
     "execution_count": 43,
     "metadata": {},
     "output_type": "execute_result"
    }
   ],
   "source": [
    "round(2.3,1)"
   ]
  },
  {
   "cell_type": "markdown",
   "metadata": {},
   "source": []
  },
  {
   "cell_type": "code",
   "execution_count": 44,
   "metadata": {},
   "outputs": [],
   "source": [
    "?round"
   ]
  },
  {
   "cell_type": "code",
   "execution_count": 58,
   "metadata": {},
   "outputs": [
    {
     "ename": "TypeError",
     "evalue": "index() takes at least 1 argument (0 given)",
     "output_type": "error",
     "traceback": [
      "\u001b[1;31m---------------------------------------------------------------------------\u001b[0m",
      "\u001b[1;31mTypeError\u001b[0m                                 Traceback (most recent call last)",
      "\u001b[1;32m<ipython-input-58-9cbaff88e389>\u001b[0m in \u001b[0;36m<module>\u001b[1;34m()\u001b[0m\n\u001b[1;32m----> 1\u001b[1;33m \u001b[0mStudent\u001b[0m\u001b[1;33m.\u001b[0m\u001b[0mindex\u001b[0m\u001b[1;33m(\u001b[0m\u001b[1;33m)\u001b[0m\u001b[1;33m\u001b[0m\u001b[0m\n\u001b[0m",
      "\u001b[1;31mTypeError\u001b[0m: index() takes at least 1 argument (0 given)"
     ]
    }
   ],
   "source": [
    "Student.index()"
   ]
  },
  {
   "cell_type": "code",
   "execution_count": 46,
   "metadata": {},
   "outputs": [
    {
     "name": "stdout",
     "output_type": "stream",
     "text": [
      "4\n"
     ]
    }
   ],
   "source": [
    "print(len(Student))"
   ]
  },
  {
   "cell_type": "code",
   "execution_count": 47,
   "metadata": {},
   "outputs": [
    {
     "data": {
      "text/plain": [
       "[['Name', 'Sw'], ['Sex', '男'], ['age', 20], ['Num', 2321]]"
      ]
     },
     "execution_count": 47,
     "metadata": {},
     "output_type": "execute_result"
    }
   ],
   "source": [
    "Student"
   ]
  },
  {
   "cell_type": "code",
   "execution_count": 49,
   "metadata": {},
   "outputs": [
    {
     "data": {
      "text/plain": [
       "[12, 45, 6, 89, 6776, 87, 0.8, 0]"
      ]
     },
     "execution_count": 49,
     "metadata": {},
     "output_type": "execute_result"
    }
   ],
   "source": [
    "num=[12,45,6,89,6776,87,0.8,0]\n",
    "num"
   ]
  },
  {
   "cell_type": "code",
   "execution_count": 50,
   "metadata": {},
   "outputs": [
    {
     "data": {
      "text/plain": [
       "[0, 0.8, 6, 12, 45, 87, 89, 6776]"
      ]
     },
     "execution_count": 50,
     "metadata": {},
     "output_type": "execute_result"
    }
   ],
   "source": [
    "sorted(num)"
   ]
  },
  {
   "cell_type": "code",
   "execution_count": 51,
   "metadata": {},
   "outputs": [],
   "source": [
    "?sorted\n"
   ]
  },
  {
   "cell_type": "code",
   "execution_count": 52,
   "metadata": {},
   "outputs": [
    {
     "ename": "ValueError",
     "evalue": "'Sw' is not in list",
     "output_type": "error",
     "traceback": [
      "\u001b[1;31m---------------------------------------------------------------------------\u001b[0m",
      "\u001b[1;31mValueError\u001b[0m                                Traceback (most recent call last)",
      "\u001b[1;32m<ipython-input-52-aca67254d8c4>\u001b[0m in \u001b[0;36m<module>\u001b[1;34m()\u001b[0m\n\u001b[1;32m----> 1\u001b[1;33m \u001b[0mStudent\u001b[0m\u001b[1;33m.\u001b[0m\u001b[0mindex\u001b[0m\u001b[1;33m(\u001b[0m\u001b[1;34m\"Sw\"\u001b[0m\u001b[1;33m)\u001b[0m\u001b[1;33m\u001b[0m\u001b[0m\n\u001b[0m",
      "\u001b[1;31mValueError\u001b[0m: 'Sw' is not in list"
     ]
    }
   ],
   "source": [
    "Student.index(\"Sw\")"
   ]
  },
  {
   "cell_type": "code",
   "execution_count": 53,
   "metadata": {},
   "outputs": [
    {
     "name": "stdout",
     "output_type": "stream",
     "text": [
      "Object `upper` not found.\n"
     ]
    }
   ],
   "source": [
    "?upper"
   ]
  },
  {
   "cell_type": "code",
   "execution_count": 54,
   "metadata": {},
   "outputs": [],
   "source": [
    "room = \"Sw Yong\""
   ]
  },
  {
   "cell_type": "code",
   "execution_count": 55,
   "metadata": {},
   "outputs": [],
   "source": [
    "room_up=room.upper()"
   ]
  },
  {
   "cell_type": "code",
   "execution_count": 56,
   "metadata": {},
   "outputs": [
    {
     "name": "stdout",
     "output_type": "stream",
     "text": [
      "SW YONG\n"
     ]
    }
   ],
   "source": [
    "print(room_up)"
   ]
  },
  {
   "cell_type": "markdown",
   "metadata": {},
   "source": [
    "## 包、函数的导入\n",
    "包的导入：```import 包名```  \n",
    "函数的导入也可以用 ```from 包名 import 函数名```"
   ]
  },
  {
   "cell_type": "code",
   "execution_count": 59,
   "metadata": {},
   "outputs": [],
   "source": [
    "import math"
   ]
  },
  {
   "cell_type": "code",
   "execution_count": 61,
   "metadata": {},
   "outputs": [
    {
     "data": {
      "text/plain": [
       "3.141592653589793"
      ]
     },
     "execution_count": 61,
     "metadata": {},
     "output_type": "execute_result"
    }
   ],
   "source": [
    "math.pi"
   ]
  },
  {
   "cell_type": "code",
   "execution_count": 1,
   "metadata": {},
   "outputs": [],
   "source": [
    "import numpy as np\n",
    "a=np.array([1,2])"
   ]
  },
  {
   "cell_type": "code",
   "execution_count": 2,
   "metadata": {},
   "outputs": [
    {
     "data": {
      "text/plain": [
       "array([1, 2])"
      ]
     },
     "execution_count": 2,
     "metadata": {},
     "output_type": "execute_result"
    }
   ],
   "source": [
    "a"
   ]
  },
  {
   "cell_type": "code",
   "execution_count": 1,
   "metadata": {},
   "outputs": [
    {
     "name": "stdout",
     "output_type": "stream",
     "text": [
      "<class 'numpy.ndarray'>\n",
      "[1.8  2.15 2.1  2.1  1.88 1.76 2.09 2.  ]\n",
      "[2.15 2.1  2.1  2.09]\n",
      "2.0\n",
      "[2.09 2.  ]\n"
     ]
    }
   ],
   "source": [
    "# 创建棒球运动员的身高列表 baseball\n",
    "baseball = [180, 215, 210, 210, 188, 176, 209, 200]\n",
    "\n",
    "# 导入numpy包\n",
    "import numpy as np\n",
    "\n",
    "# 用列表baseball创建numpy数组：np_baseball\n",
    "np_baseball = np.array(baseball)\n",
    "\n",
    "# 打印np_baseball的数据类型\n",
    "print(type(np_baseball))\n",
    "\n",
    "# 将以厘米为单位的身高转换成以米为单位，并输出\n",
    "np_baseball_m = np_baseball / 100\n",
    "print(np_baseball_m)\n",
    "\n",
    "# 找出高于2米的运动员身高数据\n",
    "print(np_baseball_m[np_baseball_m > 2])\n",
    "\n",
    "# 打印输出最后一个棒球运动员的身高\n",
    "print(np_baseball_m[-1])\n",
    "\n",
    "# 打印输出最后两个运动员的身高\n",
    "print(np_baseball_m[-2:])"
   ]
  },
  {
   "cell_type": "markdown",
   "metadata": {},
   "source": [
    "## Numpy二维数组\n"
   ]
  },
  {
   "cell_type": "code",
   "execution_count": 3,
   "metadata": {},
   "outputs": [
    {
     "data": {
      "text/plain": [
       "array([[ 1.73,  1.65,  1.86,  1.79],\n",
       "       [65.4 , 59.2 , 88.4 , 68.4 ]])"
      ]
     },
     "execution_count": 3,
     "metadata": {},
     "output_type": "execute_result"
    }
   ],
   "source": [
    "np_2d = np.array([[1.73,1.65,1.86,1.79],\n",
    "                [65.4,59.2,88.4,68.4]])\n",
    "np_2d"
   ]
  },
  {
   "cell_type": "code",
   "execution_count": 4,
   "metadata": {},
   "outputs": [
    {
     "data": {
      "text/plain": [
       "(2, 4)"
      ]
     },
     "execution_count": 4,
     "metadata": {},
     "output_type": "execute_result"
    }
   ],
   "source": [
    "np_2d.shape"
   ]
  },
  {
   "cell_type": "markdown",
   "metadata": {},
   "source": [
    "这是一个2行、5列的二维数组，第一行代表身高，第二行代表体重。索引结构如下图所示："
   ]
  },
  {
   "cell_type": "markdown",
   "metadata": {},
   "source": [
    "![](http://localhost:8890/notebooks/Intro_to_Python/array.png)"
   ]
  },
  {
   "cell_type": "markdown",
   "metadata": {},
   "source": [
    "切片操作"
   ]
  },
  {
   "cell_type": "code",
   "execution_count": 14,
   "metadata": {},
   "outputs": [
    {
     "name": "stdout",
     "output_type": "stream",
     "text": [
      "[[ 1.73  1.65  1.86  1.79]\n",
      " [65.4  59.2  88.4  68.4 ]]\n",
      "[1.73 1.65 1.86 1.79]\n",
      "1.86\n",
      "1.86\n",
      "[[ 1.65  1.86]\n",
      " [59.2  88.4 ]]\n",
      "[65.4 59.2 88.4 68.4]\n"
     ]
    }
   ],
   "source": [
    "print(np_2d)\n",
    "print(np_2d[0]) #选取第一行\n",
    "print(np_2d[0][2])#选取第一行第三列\n",
    "print(np_2d[0,2])#选取第一行第三列\n",
    "print(np_2d[:,1:3])#选取每一行的第2、3列\n",
    "print(np_2d[1,:])#选取第二行的所有列"
   ]
  },
  {
   "cell_type": "markdown",
   "metadata": {},
   "source": [
    "二维数组的运算"
   ]
  },
  {
   "cell_type": "code",
   "execution_count": 15,
   "metadata": {},
   "outputs": [
    {
     "name": "stdout",
     "output_type": "stream",
     "text": [
      "[[ 1.73  1.65  1.86  1.79]\n",
      " [65.4  59.2  88.4  68.4 ]]\n"
     ]
    },
    {
     "data": {
      "text/plain": [
       "array([[  3.46,   3.3 ,   3.72,   3.58],\n",
       "       [130.8 , 118.4 , 176.8 , 136.8 ]])"
      ]
     },
     "execution_count": 15,
     "metadata": {},
     "output_type": "execute_result"
    }
   ],
   "source": [
    "print(np_2d)\n",
    "np_2d*2"
   ]
  },
  {
   "cell_type": "code",
   "execution_count": 16,
   "metadata": {},
   "outputs": [
    {
     "name": "stdout",
     "output_type": "stream",
     "text": [
      "[[ 1.73  1.65  1.86  1.79]\n",
      " [65.4  59.2  88.4  68.4 ]]\n"
     ]
    },
    {
     "data": {
      "text/plain": [
       "array([[2.99290e+00, 2.72250e+00, 3.45960e+00, 3.20410e+00],\n",
       "       [4.27716e+03, 3.50464e+03, 7.81456e+03, 4.67856e+03]])"
      ]
     },
     "execution_count": 16,
     "metadata": {},
     "output_type": "execute_result"
    }
   ],
   "source": [
    "print(np_2d)\n",
    "np_2d**2"
   ]
  },
  {
   "cell_type": "code",
   "execution_count": 17,
   "metadata": {},
   "outputs": [
    {
     "name": "stdout",
     "output_type": "stream",
     "text": [
      "[[ 1.73  1.65  1.86  1.79]\n",
      " [65.4  59.2  88.4  68.4 ]]\n"
     ]
    },
    {
     "data": {
      "text/plain": [
       "array([[  3.46,   3.3 ,   3.72,   3.58],\n",
       "       [130.8 , 118.4 , 176.8 , 136.8 ]])"
      ]
     },
     "execution_count": 17,
     "metadata": {},
     "output_type": "execute_result"
    }
   ],
   "source": [
    "print(np_2d)\n",
    "np_2d+np_2d"
   ]
  },
  {
   "cell_type": "code",
   "execution_count": 18,
   "metadata": {},
   "outputs": [],
   "source": [
    "sample = np.array([\n",
    "       [  74.  ,  215.  ,   34.69],\n",
    "       [  72.  ,  210.  ,   30.78],\n",
    "       [  72.  ,  210.  ,   35.43],\n",
    "       [  73.  ,  188.  ,   35.71],\n",
    "       [  69.  ,  176.  ,   29.39],\n",
    "       [  69.  ,  209.  ,   30.77],\n",
    "       [  71.  ,  200.  ,   35.07],\n",
    "       [  76.  ,  231.  ,   30.19],\n",
    "       [  71.  ,  180.  ,   27.05],\n",
    "       [  73.  ,  188.  ,   23.88],\n",
    "       [  73.  ,  180.  ,   26.96],\n",
    "       [  74.  ,  185.  ,   23.29],\n",
    "       [  74.  ,  160.  ,   26.11],\n",
    "       [  69.  ,  180.  ,   27.55],\n",
    "       [  70.  ,  185.  ,   34.27],\n",
    "       [  73.  ,  189.  ,   27.99],\n",
    "       [  75.  ,  185.  ,   22.38],\n",
    "       [  78.  ,  219.  ,   22.89],\n",
    "       [  79.  ,  230.  ,   25.76],\n",
    "       [  76.  ,  205.  ,   36.33]])"
   ]
  },
  {
   "cell_type": "code",
   "execution_count": 19,
   "metadata": {},
   "outputs": [],
   "source": [
    "height = sample[:,1]"
   ]
  },
  {
   "cell_type": "code",
   "execution_count": 20,
   "metadata": {},
   "outputs": [
    {
     "data": {
      "text/plain": [
       "array([215., 210., 210., 188., 176., 209., 200., 231., 180., 188., 180.,\n",
       "       185., 160., 180., 185., 189., 185., 219., 230., 205.])"
      ]
     },
     "execution_count": 20,
     "metadata": {},
     "output_type": "execute_result"
    }
   ],
   "source": [
    "height"
   ]
  },
  {
   "cell_type": "code",
   "execution_count": 22,
   "metadata": {},
   "outputs": [
    {
     "data": {
      "text/plain": [
       "196.25"
      ]
     },
     "execution_count": 22,
     "metadata": {},
     "output_type": "execute_result"
    }
   ],
   "source": [
    "np.mean(height)#计算平均身高"
   ]
  },
  {
   "cell_type": "code",
   "execution_count": 23,
   "metadata": {},
   "outputs": [
    {
     "data": {
      "text/plain": [
       "188.5"
      ]
     },
     "execution_count": 23,
     "metadata": {},
     "output_type": "execute_result"
    }
   ],
   "source": [
    "np.median(height)#计算中位数"
   ]
  },
  {
   "cell_type": "code",
   "execution_count": 24,
   "metadata": {},
   "outputs": [
    {
     "data": {
      "text/plain": [
       "18.616860637604827"
      ]
     },
     "execution_count": 24,
     "metadata": {},
     "output_type": "execute_result"
    }
   ],
   "source": [
    "np.std(height)#计算标准差"
   ]
  },
  {
   "cell_type": "code",
   "execution_count": 25,
   "metadata": {},
   "outputs": [
    {
     "data": {
      "text/plain": [
       "array([[1.        , 0.50671793],\n",
       "       [0.50671793, 1.        ]])"
      ]
     },
     "execution_count": 25,
     "metadata": {},
     "output_type": "execute_result"
    }
   ],
   "source": [
    "np.corrcoef(sample[:,0], sample[:,1])#使用 np.corrcoef() 函数计算体重和身高的相关系数："
   ]
  },
  {
   "cell_type": "code",
   "execution_count": 30,
   "metadata": {},
   "outputs": [
    {
     "ename": "NameError",
     "evalue": "name 'corrcoefr' is not defined",
     "output_type": "error",
     "traceback": [
      "\u001b[1;31m---------------------------------------------------------------------------\u001b[0m",
      "\u001b[1;31mNameError\u001b[0m                                 Traceback (most recent call last)",
      "\u001b[1;32m<ipython-input-30-ddb79630df5f>\u001b[0m in \u001b[0;36m<module>\u001b[1;34m()\u001b[0m\n\u001b[1;32m----> 1\u001b[1;33m \u001b[0mhelp\u001b[0m \u001b[1;33m(\u001b[0m\u001b[0mcorrcoefr\u001b[0m\u001b[1;33m)\u001b[0m\u001b[1;33m\u001b[0m\u001b[0m\n\u001b[0m",
      "\u001b[1;31mNameError\u001b[0m: name 'corrcoefr' is not defined"
     ]
    }
   ],
   "source": [
    "help (corrcoefr)"
   ]
  },
  {
   "cell_type": "code",
   "execution_count": 31,
   "metadata": {},
   "outputs": [],
   "source": [
    "data = np.round(np.random.normal(1.75, 0.20, size=100), 2)#使用 Numpy 还可以进行统计模拟，生成随机数或符合特定分布的数值。比如，下面的代码生成了一组100个符合正态分布的数值，均值是1.75，标准差是0.2。"
   ]
  },
  {
   "cell_type": "code",
   "execution_count": 32,
   "metadata": {},
   "outputs": [
    {
     "data": {
      "text/plain": [
       "array([2.19, 1.71, 1.63, 1.65, 1.51, 1.85, 1.95, 2.21, 1.62, 2.06, 1.9 ,\n",
       "       1.91, 1.76, 1.85, 1.69, 1.81, 1.79, 1.78, 1.8 , 1.77, 1.87, 2.01,\n",
       "       1.57, 1.73, 1.73, 1.7 , 1.63, 1.41, 1.9 , 1.81, 2.13, 1.71, 1.78,\n",
       "       1.64, 1.65, 2.05, 1.68, 1.72, 1.79, 1.64, 1.85, 1.97, 1.5 , 1.65,\n",
       "       1.85, 1.86, 1.93, 1.79, 1.92, 2.01, 1.47, 1.94, 2.05, 1.79, 1.97,\n",
       "       1.72, 1.9 , 1.58, 1.84, 1.65, 1.91, 1.87, 1.97, 1.81, 1.74, 1.63,\n",
       "       2.02, 1.73, 1.85, 1.42, 1.7 , 1.58, 1.88, 1.59, 1.6 , 1.69, 1.87,\n",
       "       1.25, 1.63, 1.9 , 1.83, 1.76, 1.82, 2.04, 1.86, 1.72, 1.78, 2.06,\n",
       "       1.58, 1.56, 1.7 , 1.7 , 1.84, 1.54, 2.  , 1.9 , 1.39, 1.38, 1.46,\n",
       "       1.31])"
      ]
     },
     "execution_count": 32,
     "metadata": {},
     "output_type": "execute_result"
    }
   ],
   "source": [
    "data"
   ]
  },
  {
   "cell_type": "code",
   "execution_count": 33,
   "metadata": {},
   "outputs": [
    {
     "data": {
      "text/plain": [
       "3925.0"
      ]
     },
     "execution_count": 33,
     "metadata": {},
     "output_type": "execute_result"
    }
   ],
   "source": [
    "sum(height)#python中计算"
   ]
  },
  {
   "cell_type": "code",
   "execution_count": 34,
   "metadata": {},
   "outputs": [
    {
     "data": {
      "text/plain": [
       "3925.0"
      ]
     },
     "execution_count": 34,
     "metadata": {},
     "output_type": "execute_result"
    }
   ],
   "source": [
    "np.sum(height)#numpy中计算"
   ]
  },
  {
   "cell_type": "markdown",
   "metadata": {},
   "source": [
    "像 sum()、sort()这类的函数，Numpy 和 Python 中都有，那么它们的区别在哪里呢？关键在于 Numpy 中的计算速度更快，因为 Numpy 是专门针对数值计算的，而 Python 还要考虑其他数据类型。"
   ]
  },
  {
   "cell_type": "code",
   "execution_count": 35,
   "metadata": {},
   "outputs": [
    {
     "name": "stdout",
     "output_type": "stream",
     "text": [
      "Median height of goalkeepers: 191.0\n",
      "Median height of other players: 183.0\n"
     ]
    }
   ],
   "source": [
    "# 创建足球运动员的位置和对应的身高数据\n",
    "positions = ['GK', 'M', 'A', 'D', 'M', 'D', 'M', 'M', 'M', 'A', 'M', 'M', 'A', 'A', 'A', 'M', 'D', 'A', 'D', 'M', 'GK', 'D', 'D', 'M', 'M', 'M', 'M', 'D', 'M', 'GK']\n",
    "heights = [191, 184, 185, 180, 181, 187, 170, 179, 183, 186, 185, 170, 187, 183, 173, 188, 183, 180, 188, 175, 193, 180, 185, 170, 183, 173, 185, 185, 168, 190]\n",
    "\n",
    "# 导入numpy包\n",
    "import numpy as np\n",
    "\n",
    "# 将列表 positions 和 heights 分别转化成numpy数组: np_positions, np_heights\n",
    "np_positions = np.array(positions)\n",
    "np_heights = np.array(heights)\n",
    "\n",
    "\n",
    "# 将守门员的身高数据存入变量 gk_heights， 守门员对应的位置编码是’GK‘\n",
    "gk_heights = np_heights[np_positions == 'GK']\n",
    "\n",
    "# 将守门员之外的其他运动员的身高数据存入变量 other_heights\n",
    "other_heights = np_heights[np_positions != 'GK']\n",
    "\n",
    "# 打印输出守门员身高的中位数，替换代码中的'None'\n",
    "print(\"Median height of goalkeepers: \" + str(np.median(gk_heights)))\n",
    "\n",
    "# 打印输出其他运动员身高的中位数，替换代码中的'None'\n",
    "print(\"Median height of other players: \" + str(np.median(other_heights)))"
   ]
  }
 ],
 "metadata": {
  "kernelspec": {
   "display_name": "Python 3",
   "language": "python",
   "name": "python3"
  },
  "language_info": {
   "codemirror_mode": {
    "name": "ipython",
    "version": 3
   },
   "file_extension": ".py",
   "mimetype": "text/x-python",
   "name": "python",
   "nbconvert_exporter": "python",
   "pygments_lexer": "ipython3",
   "version": "3.6.4"
  }
 },
 "nbformat": 4,
 "nbformat_minor": 2
}
