{
 "cells": [
  {
   "cell_type": "markdown",
   "metadata": {},
   "source": [
    "# Numpy中的一些函数\n",
    "import numpy.np"
   ]
  },
  {
   "cell_type": "markdown",
   "metadata": {},
   "source": [
    "```array(object, dtype=None, copy=True, order='K', subok=False, ndmin=0)```  **数组生成函数**  \n",
    "``` numpy.sort(a, axis=-1, kind='quicksort', order=None)```   **排序函数**  \n",
    "```arange([start,] stop[, step,], dtype=None)```  **arange函数类似于python的range函数， 通过指定开始值、 终值和步长来创建一维数组， 注意数组不包括终值；arange(10,1,-1)可以生成倒序序列**   \n",
    "```numpy.fromfunction(function, shape, **kwargs)```  **fromfunction函数的第一个参数为计算每个数组元素的函数， 第二个参数为数组的\n",
    "大小(shape)**  \n",
    "``numpy.random.rand()```  **生成随机数，可以生成二维随机数**  \n",
    "```numpy.dtype```     **类似C语言中的结构体**  \n",
    "```numpy.linspace(start, stop, num=50, endpoint=True, retstep=False, dtype=None)``` **Return evenly spaced numbers over a specified interval.\n",
    "Returns `num` evenly spaced samples, calculated over the\n",
    "interval [`start`, `stop`].**  \n",
    "```numpy.matrix(data, dtype=None, copy=True)```  **矩阵操作**\n"
   ]
  },
  {
   "cell_type": "code",
   "execution_count": 7,
   "metadata": {},
   "outputs": [],
   "source": [
    "import numpy\n",
    "?numpy.rang"
   ]
  },
  {
   "cell_type": "markdown",
   "metadata": {},
   "source": [
    "# Python中的一些函数"
   ]
  },
  {
   "cell_type": "code",
   "execution_count": null,
   "metadata": {},
   "outputs": [],
   "source": [
    "shape函数: 对数组的组成结构（行、列）进行调整\n",
    "reshape函数: 对数组的组成结构（行、列）进行调整（调整后会创建一个共用空间的数组）\n",
    "sorted函数：对数据进行排序\n",
    "range函数:生成一个序列"
   ]
  },
  {
   "cell_type": "markdown",
   "metadata": {},
   "source": [
    "# Matplotlib中的一些函数\n",
    "import matplotlib.pyplot as plt"
   ]
  },
  {
   "cell_type": "markdown",
   "metadata": {},
   "source": [
    "```plt.plot```  画图函数  \n",
    "```plt.scatter``` 绘制散点图  \n",
    "```\n"
   ]
  }
 ],
 "metadata": {
  "kernelspec": {
   "display_name": "Python 3",
   "language": "python",
   "name": "python3"
  },
  "language_info": {
   "codemirror_mode": {
    "name": "ipython",
    "version": 3
   },
   "file_extension": ".py",
   "mimetype": "text/x-python",
   "name": "python",
   "nbconvert_exporter": "python",
   "pygments_lexer": "ipython3",
   "version": "3.6.4"
  }
 },
 "nbformat": 4,
 "nbformat_minor": 2
}
